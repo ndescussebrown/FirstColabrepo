{
  "nbformat": 4,
  "nbformat_minor": 0,
  "metadata": {
    "colab": {
      "name": "First_Colab_Python_File.ipynb",
      "provenance": [],
      "collapsed_sections": [],
      "toc_visible": true,
      "authorship_tag": "ABX9TyMZBsESXBUoQElGvJ2EZwZf",
      "include_colab_link": true
    },
    "kernelspec": {
      "name": "python3",
      "display_name": "Python 3"
    },
    "language_info": {
      "name": "python"
    }
  },
  "cells": [
    {
      "cell_type": "markdown",
      "metadata": {
        "id": "view-in-github",
        "colab_type": "text"
      },
      "source": [
        "<a href=\"https://colab.research.google.com/github/ndescussebrown/FirstColabrepo/blob/main/First_Colab_Python_File.ipynb\" target=\"_parent\"><img src=\"https://colab.research.google.com/assets/colab-badge.svg\" alt=\"Open In Colab\"/></a>"
      ]
    },
    {
      "cell_type": "markdown",
      "metadata": {
        "id": "agYTqXQHMdzL"
      },
      "source": [
        "## **Part 1: Code basics**\n",
        "a.\tColab\n",
        "\n",
        "b.\tThe variables\n"
      ]
    },
    {
      "cell_type": "code",
      "metadata": {
        "colab": {
          "base_uri": "https://localhost:8080/"
        },
        "id": "4H12E_7DPVXN",
        "outputId": "7631b5f0-dd1c-4ee4-b3e3-50c75117c62e"
      },
      "source": [
        "from google.colab import drive\n",
        "\n",
        "drive.mount('/content/gdrive')"
      ],
      "execution_count": 4,
      "outputs": [
        {
          "output_type": "stream",
          "name": "stdout",
          "text": [
            "Mounted at /content/gdrive\n"
          ]
        }
      ]
    },
    {
      "cell_type": "markdown",
      "metadata": {
        "id": "SyOXXnDBRMh1"
      },
      "source": [
        "#####How to find how to list files in Google Drive folders"
      ]
    },
    {
      "cell_type": "code",
      "metadata": {
        "id": "8Zik8eTyTTLK"
      },
      "source": [
        "#can also add content to this path, it\n",
        "!ls /content/gdrive/MyDrive"
      ],
      "execution_count": null,
      "outputs": []
    },
    {
      "cell_type": "code",
      "metadata": {
        "id": "JLq80hf2Mj2D"
      },
      "source": [
        "#How to see what is in my google drive\n",
        "!ls gdrive/MyDrive"
      ],
      "execution_count": null,
      "outputs": []
    },
    {
      "cell_type": "code",
      "metadata": {
        "id": "AZmVjwIBUjAs"
      },
      "source": [
        "#one way to access to iris dataset (but it's not uploaded in google drive!)\n",
        "from sklearn import datasets\n",
        "iris = datasets.load_iris()"
      ],
      "execution_count": 30,
      "outputs": []
    },
    {
      "cell_type": "code",
      "metadata": {
        "id": "PGkrpuk1U5j_"
      },
      "source": [
        "#upload iris dataset to google drive but upsing the upload button means it's \n",
        "#only available for this session and is only saved locally.\n"
      ],
      "execution_count": null,
      "outputs": []
    },
    {
      "cell_type": "markdown",
      "metadata": {
        "id": "6QEJiiBuZMsv"
      },
      "source": [
        "We can save the iris dataset directly from the URL by using wget:"
      ]
    },
    {
      "cell_type": "code",
      "metadata": {
        "colab": {
          "base_uri": "https://localhost:8080/"
        },
        "id": "o5VjWgfsZ2hT",
        "outputId": "27c59510-6eed-4e22-be0a-0b2c9aae0286"
      },
      "source": [
        "cp /content/iris.data /content/gdrive/MyDrive/iris.data\n"
      ],
      "execution_count": 107,
      "outputs": [
        {
          "output_type": "stream",
          "name": "stdout",
          "text": [
            "cp: cannot stat '/content/iris.data': No such file or directory\n"
          ]
        }
      ]
    },
    {
      "cell_type": "code",
      "metadata": {
        "id": "ChLynCoHXS6p"
      },
      "source": [
        "#how to download on the machine, we use WGet (https://www.gnu.org/software/wget/\n",
        "#). It is then named iris.data.1 as there is already another iris.data saved \n",
        "#locally\n",
        "!wget https://archive.ics.uci.edu/ml/machine-learning-databases/iris/iris.data\n"
      ],
      "execution_count": null,
      "outputs": []
    },
    {
      "cell_type": "code",
      "metadata": {
        "id": "86B7kVePUYOr"
      },
      "source": [
        "#To recover a deleted cell\n",
        "# CTRL+M Z\n"
      ],
      "execution_count": null,
      "outputs": []
    },
    {
      "cell_type": "markdown",
      "metadata": {
        "id": "43gUhpiMZjxL"
      },
      "source": [
        "Until now everything has been saved locally, but we can save to google drive, either by copying it or moving it\n"
      ]
    },
    {
      "cell_type": "code",
      "metadata": {
        "id": "AaJcm6lcbADY"
      },
      "source": [
        "mv /content/iris.data /content/gdrive/MyDrive/iris.data"
      ],
      "execution_count": 46,
      "outputs": []
    },
    {
      "cell_type": "code",
      "metadata": {
        "id": "KlN74bAlbC4M"
      },
      "source": [
        "mv /content/iris.names /content/gdrive/MyDrive/iris.names"
      ],
      "execution_count": 47,
      "outputs": []
    },
    {
      "cell_type": "code",
      "metadata": {
        "id": "zGk33E5Sh0FT"
      },
      "source": [
        "#clone Stephan's GitHub repo\n",
        "!git clone https://github.com/SteBaum/First_Colab_saving"
      ],
      "execution_count": null,
      "outputs": []
    },
    {
      "cell_type": "code",
      "metadata": {
        "id": "z9XsaNCUsGys"
      },
      "source": [
        ""
      ],
      "execution_count": null,
      "outputs": []
    },
    {
      "cell_type": "code",
      "metadata": {
        "id": "42cPty1NtBHI"
      },
      "source": [
        ""
      ],
      "execution_count": null,
      "outputs": []
    },
    {
      "cell_type": "markdown",
      "metadata": {
        "id": "A9JNv6G6sqY8"
      },
      "source": [
        "# Variables and Functions\n"
      ]
    },
    {
      "cell_type": "code",
      "metadata": {
        "colab": {
          "base_uri": "https://localhost:8080/"
        },
        "id": "0Os0c9ZNiDkn",
        "outputId": "6e16b526-d1cf-49e3-b085-b16c061028f0"
      },
      "source": [
        "print(1+2)"
      ],
      "execution_count": 49,
      "outputs": [
        {
          "output_type": "stream",
          "name": "stdout",
          "text": [
            "3\n"
          ]
        }
      ]
    },
    {
      "cell_type": "code",
      "metadata": {
        "colab": {
          "base_uri": "https://localhost:8080/"
        },
        "id": "ky2BAIrTiGXr",
        "outputId": "76a06e00-83a2-431e-b970-18be89004ae1"
      },
      "source": [
        "#Integet number is a number in Z\n",
        "#A float is a decimal number\n",
        "#type function enables checking type of an input (integer, float, string etc)\n",
        "type(1+1.3)"
      ],
      "execution_count": 54,
      "outputs": [
        {
          "output_type": "execute_result",
          "data": {
            "text/plain": [
              "float"
            ]
          },
          "metadata": {},
          "execution_count": 54
        }
      ]
    },
    {
      "cell_type": "markdown",
      "metadata": {
        "id": "XubCZQxmj42F"
      },
      "source": [
        "List of natural number $\\mathbb{Z}$"
      ]
    },
    {
      "cell_type": "code",
      "metadata": {
        "id": "awgCb0koj52R"
      },
      "source": [
        ""
      ],
      "execution_count": null,
      "outputs": []
    },
    {
      "cell_type": "markdown",
      "metadata": {
        "id": "cOz2w76ujkfx"
      },
      "source": [
        "Concatenate "
      ]
    },
    {
      "cell_type": "markdown",
      "metadata": {
        "id": "zae3Yax6sN5C"
      },
      "source": [
        ""
      ]
    },
    {
      "cell_type": "code",
      "metadata": {
        "colab": {
          "base_uri": "https://localhost:8080/",
          "height": 35
        },
        "id": "CIQN2hEXkQJS",
        "outputId": "3f0e3046-deb6-4a55-c343-b2b1511bd6c1"
      },
      "source": [
        "'hello' + ' world'"
      ],
      "execution_count": 60,
      "outputs": [
        {
          "output_type": "execute_result",
          "data": {
            "application/vnd.google.colaboratory.intrinsic+json": {
              "type": "string"
            },
            "text/plain": [
              "'hello world'"
            ]
          },
          "metadata": {},
          "execution_count": 60
        }
      ]
    },
    {
      "cell_type": "code",
      "metadata": {
        "colab": {
          "base_uri": "https://localhost:8080/",
          "height": 35
        },
        "id": "pX1XkhBzk--h",
        "outputId": "60c1d5ad-f50f-4258-dfa5-a5b0a7898163"
      },
      "source": [
        "#How to use variables in a string.\n",
        "name='Nathalie'\n",
        "age=20\n",
        "'Hello, {}. You are {}.'.format(name,age)"
      ],
      "execution_count": 69,
      "outputs": [
        {
          "output_type": "execute_result",
          "data": {
            "application/vnd.google.colaboratory.intrinsic+json": {
              "type": "string"
            },
            "text/plain": [
              "'Hello, Nathalie. You are 20.'"
            ]
          },
          "metadata": {},
          "execution_count": 69
        }
      ]
    },
    {
      "cell_type": "code",
      "metadata": {
        "colab": {
          "base_uri": "https://localhost:8080/",
          "height": 35
        },
        "id": "rpNXS_qWm4Lc",
        "outputId": "80215ddd-827a-4c81-d909-4aab13f58116"
      },
      "source": [
        "#Another way to do this\n",
        "f'Hello, {name}. You are {age}.'"
      ],
      "execution_count": 83,
      "outputs": [
        {
          "output_type": "execute_result",
          "data": {
            "application/vnd.google.colaboratory.intrinsic+json": {
              "type": "string"
            },
            "text/plain": [
              "'Hello, Nathalie. You are 20.'"
            ]
          },
          "metadata": {},
          "execution_count": 83
        }
      ]
    },
    {
      "cell_type": "code",
      "metadata": {
        "colab": {
          "base_uri": "https://localhost:8080/",
          "height": 35
        },
        "id": "-ymJs06nl9-_",
        "outputId": "d3c3f795-4a65-407a-e540-cfe12047dc26"
      },
      "source": [
        "#Yet nother way to do this\n",
        "'Hello, %s. You are %s.'% (name, age)"
      ],
      "execution_count": 81,
      "outputs": [
        {
          "output_type": "execute_result",
          "data": {
            "application/vnd.google.colaboratory.intrinsic+json": {
              "type": "string"
            },
            "text/plain": [
              "'Hello, Nathalie. You are 20.'"
            ]
          },
          "metadata": {},
          "execution_count": 81
        }
      ]
    },
    {
      "cell_type": "code",
      "metadata": {
        "colab": {
          "base_uri": "https://localhost:8080/",
          "height": 35
        },
        "id": "d2gxs6CgnBXX",
        "outputId": "91d7b226-21f4-4350-82cc-705b7cebbd43"
      },
      "source": [
        "#Multiply strings and number\n",
        "10 * 'hello'"
      ],
      "execution_count": 84,
      "outputs": [
        {
          "output_type": "execute_result",
          "data": {
            "application/vnd.google.colaboratory.intrinsic+json": {
              "type": "string"
            },
            "text/plain": [
              "'hellohellohellohellohellohellohellohellohellohello'"
            ]
          },
          "metadata": {},
          "execution_count": 84
        }
      ]
    },
    {
      "cell_type": "code",
      "metadata": {
        "id": "wlliKEu4nGuQ"
      },
      "source": [
        "def concat_number(a,b):\n",
        "  return('{}{}'.format(a,b))"
      ],
      "execution_count": 103,
      "outputs": []
    },
    {
      "cell_type": "code",
      "metadata": {
        "colab": {
          "base_uri": "https://localhost:8080/",
          "height": 35
        },
        "id": "0Xp2Ml0QnjZB",
        "outputId": "80296b12-6b68-4dbc-e1d6-191da9c5cf01"
      },
      "source": [
        "concat_number(name,age)"
      ],
      "execution_count": 104,
      "outputs": [
        {
          "output_type": "execute_result",
          "data": {
            "application/vnd.google.colaboratory.intrinsic+json": {
              "type": "string"
            },
            "text/plain": [
              "'Nathalie20'"
            ]
          },
          "metadata": {},
          "execution_count": 104
        }
      ]
    },
    {
      "cell_type": "code",
      "metadata": {
        "id": "945fYQ2Jn-QY"
      },
      "source": [
        "#Another way to do the above:\n",
        "def concat_number_2(a,b):\n",
        "  b=str(b)\n",
        "  return(a+b)"
      ],
      "execution_count": 101,
      "outputs": []
    },
    {
      "cell_type": "code",
      "metadata": {
        "colab": {
          "base_uri": "https://localhost:8080/",
          "height": 35
        },
        "id": "hsmwqeGRo0tG",
        "outputId": "14cd894f-ca3a-4d6a-9f9d-359ab2506d96"
      },
      "source": [
        "concat_number_2(name,age)"
      ],
      "execution_count": 100,
      "outputs": [
        {
          "output_type": "execute_result",
          "data": {
            "application/vnd.google.colaboratory.intrinsic+json": {
              "type": "string"
            },
            "text/plain": [
              "'Nathalie20'"
            ]
          },
          "metadata": {},
          "execution_count": 100
        }
      ]
    },
    {
      "cell_type": "code",
      "metadata": {
        "id": "-szkeMpRqyKJ"
      },
      "source": [
        "#careful that the one below will not return anything, but just print it to the \n",
        "#screen!\n",
        "def concat_number_print(a,b):\n",
        "  print('{}{}'.format(a,b))"
      ],
      "execution_count": 105,
      "outputs": []
    },
    {
      "cell_type": "code",
      "metadata": {
        "colab": {
          "base_uri": "https://localhost:8080/"
        },
        "id": "7yzr1G8fq-5D",
        "outputId": "26ad7bcf-f931-4635-bc2a-b3a6de239064"
      },
      "source": [
        "concat_number_print(name,age)"
      ],
      "execution_count": 106,
      "outputs": [
        {
          "output_type": "stream",
          "name": "stdout",
          "text": [
            "Nathalie20\n"
          ]
        }
      ]
    },
    {
      "cell_type": "markdown",
      "metadata": {
        "id": "pw5DFwtPrSdz"
      },
      "source": [
        "Avoid reusing names of variables in functions for some other variables as it will just cause confusion."
      ]
    }
  ]
}