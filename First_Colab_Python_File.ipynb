{
  "nbformat": 4,
  "nbformat_minor": 0,
  "metadata": {
    "colab": {
      "name": "First_Colab_Python_File.ipynb",
      "provenance": [],
      "collapsed_sections": []
    },
    "kernelspec": {
      "name": "python3",
      "display_name": "Python 3"
    },
    "language_info": {
      "name": "python"
    }
  },
  "cells": [
    {
      "cell_type": "markdown",
      "metadata": {
        "id": "agYTqXQHMdzL"
      },
      "source": [
        "## **Part 1: Code basics**\n",
        "a.\tColab\n",
        "\n",
        "b.\tThe variables\n"
      ]
    },
    {
      "cell_type": "code",
      "metadata": {
        "colab": {
          "base_uri": "https://localhost:8080/"
        },
        "id": "4H12E_7DPVXN",
        "outputId": "7631b5f0-dd1c-4ee4-b3e3-50c75117c62e"
      },
      "source": [
        "from google.colab import drive\n",
        "\n",
        "drive.mount('/content/gdrive')"
      ],
      "execution_count": 4,
      "outputs": [
        {
          "output_type": "stream",
          "name": "stdout",
          "text": [
            "Mounted at /content/gdrive\n"
          ]
        }
      ]
    },
    {
      "cell_type": "markdown",
      "metadata": {
        "id": "SyOXXnDBRMh1"
      },
      "source": [
        "#####How to find how to list files in Google Drive folders"
      ]
    },
    {
      "cell_type": "code",
      "metadata": {
        "id": "JLq80hf2Mj2D"
      },
      "source": [
        "#How to see what is in my google drive\n",
        "!ls gdrive/MyDrive"
      ],
      "execution_count": null,
      "outputs": []
    },
    {
      "cell_type": "code",
      "metadata": {
        "id": "8Zik8eTyTTLK"
      },
      "source": [
        "#can also add content to this path, it\n",
        "!ls /content/gdrive/MyDrive"
      ],
      "execution_count": null,
      "outputs": []
    },
    {
      "cell_type": "code",
      "metadata": {
        "id": "86B7kVePUYOr"
      },
      "source": [
        "#To recover a deleted cell\n",
        "# CTRL+M Z\n"
      ],
      "execution_count": null,
      "outputs": []
    },
    {
      "cell_type": "code",
      "metadata": {
        "id": "AZmVjwIBUjAs"
      },
      "source": [
        "#one way to access to iris dataset (but it's not uploaded in google drive!)\n",
        "from sklearn import datasets\n",
        "iris = datasets.load_iris()"
      ],
      "execution_count": 30,
      "outputs": []
    },
    {
      "cell_type": "code",
      "metadata": {
        "id": "PGkrpuk1U5j_"
      },
      "source": [
        "#upload iris dataset to google drive but upsing the upload button means it's \n",
        "#only available for this session and is only saved locally.\n"
      ],
      "execution_count": null,
      "outputs": []
    },
    {
      "cell_type": "markdown",
      "metadata": {
        "id": "6QEJiiBuZMsv"
      },
      "source": [
        "We can save the iris dataset directly from the URL by using wget:"
      ]
    },
    {
      "cell_type": "code",
      "metadata": {
        "id": "ChLynCoHXS6p"
      },
      "source": [
        "#how to download on the machine, we use WGet (https://www.gnu.org/software/wget/\n",
        "#). It is then named iris.data.1 as there is already another iris.data saved \n",
        "#locally\n",
        "!wget https://archive.ics.uci.edu/ml/machine-learning-databases/iris/iris.data\n"
      ],
      "execution_count": null,
      "outputs": []
    },
    {
      "cell_type": "markdown",
      "metadata": {
        "id": "43gUhpiMZjxL"
      },
      "source": [
        "Until now everything has been saved locally, but we can save to google drive, either by copying it or moving it\n"
      ]
    },
    {
      "cell_type": "code",
      "metadata": {
        "id": "o5VjWgfsZ2hT"
      },
      "source": [
        "cp /content/iris.data /content/gdrive/MyDrive/iris.data\n"
      ],
      "execution_count": 45,
      "outputs": []
    },
    {
      "cell_type": "code",
      "metadata": {
        "id": "AaJcm6lcbADY"
      },
      "source": [
        "mv /content/iris.data /content/gdrive/MyDrive/iris.data"
      ],
      "execution_count": 46,
      "outputs": []
    },
    {
      "cell_type": "code",
      "metadata": {
        "id": "KlN74bAlbC4M"
      },
      "source": [
        "mv /content/iris.names /content/gdrive/MyDrive/iris.names"
      ],
      "execution_count": 47,
      "outputs": []
    }
  ]
}