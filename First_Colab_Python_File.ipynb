{
  "nbformat": 4,
  "nbformat_minor": 0,
  "metadata": {
    "colab": {
      "name": "First_Colab_Python_File.ipynb",
      "provenance": [],
      "collapsed_sections": [],
      "authorship_tag": "ABX9TyNt9dFCuU/QqM4hzByeqBp+",
      "include_colab_link": true
    },
    "kernelspec": {
      "name": "python3",
      "display_name": "Python 3"
    },
    "language_info": {
      "name": "python"
    }
  },
  "cells": [
    {
      "cell_type": "markdown",
      "metadata": {
        "id": "view-in-github",
        "colab_type": "text"
      },
      "source": [
        "<a href=\"https://colab.research.google.com/github/ndescussebrown/FirstColabrepo/blob/main/First_Colab_Python_File.ipynb\" target=\"_parent\"><img src=\"https://colab.research.google.com/assets/colab-badge.svg\" alt=\"Open In Colab\"/></a>"
      ]
    },
    {
      "cell_type": "markdown",
      "metadata": {
        "id": "agYTqXQHMdzL"
      },
      "source": [
        "## **Part 1: Code basics**\n",
        "\n"
      ]
    },
    {
      "cell_type": "markdown",
      "metadata": {
        "id": "uT9l3914BJxq"
      },
      "source": [
        "First we need to mount the drive to make the files available"
      ]
    },
    {
      "cell_type": "code",
      "metadata": {
        "colab": {
          "base_uri": "https://localhost:8080/"
        },
        "id": "4H12E_7DPVXN",
        "outputId": "91111fb4-6f01-41cc-c455-f3998037cf82"
      },
      "source": [
        "from google.colab import drive\n",
        "\n",
        "drive.mount('/content/gdrive')"
      ],
      "execution_count": 119,
      "outputs": [
        {
          "output_type": "stream",
          "name": "stdout",
          "text": [
            "Drive already mounted at /content/gdrive; to attempt to forcibly remount, call drive.mount(\"/content/gdrive\", force_remount=True).\n"
          ]
        }
      ]
    },
    {
      "cell_type": "markdown",
      "metadata": {
        "id": "SyOXXnDBRMh1"
      },
      "source": [
        "###How to find how to list files in Google Drive folders"
      ]
    },
    {
      "cell_type": "code",
      "metadata": {
        "colab": {
          "base_uri": "https://localhost:8080/"
        },
        "id": "8Zik8eTyTTLK",
        "outputId": "a3cca735-5b85-4c05-ff68-9ef082464fa2"
      },
      "source": [
        "#can also add content to this path, it\n",
        "!ls /content/gdrive/MyDrive"
      ],
      "execution_count": 120,
      "outputs": [
        {
          "output_type": "stream",
          "name": "stdout",
          "text": [
            "'100k Training Plan for Isle of Wight.gsheet'\n",
            " BoardingPass.pdf\n",
            " carv_example_data\n",
            "\"Clara's Birthday 2017.gsheet\"\n",
            "'Colab Notebooks'\n",
            "'Copy of 90627.JPG'\n",
            "'Copy of GA Intro Blogging Class 04.18.pdf'\n",
            " First_Colab_Python_File.ipynb\n",
            "'IMG_4381 (1).MOV'\n",
            "'IMG_4381 (2).MOV'\n",
            "'IMG_4381 (3).MOV'\n",
            " IMG_4381.MOV\n",
            " IMG_4449.JPG\n",
            " IMG_4463.JPG\n",
            " IMG_4475.JPG\n",
            " IMG_4478.JPG\n",
            " IMG_4488.JPG\n",
            " IMG_4499.JPG\n",
            " IMG_4501.JPG\n",
            " IMG_4511.JPG\n",
            " IMG_5321.MOV\n",
            " IMG_6682.JPG\n",
            " iris.data\n",
            " iris.names\n",
            "'Jurassic Coast Strategy.xlsx'\n",
            " kc_house_data.csv\n",
            " Kids\n",
            " mobilebasic\n",
            "'mobilebasic (1)'\n",
            "'mobilebasic (2)'\n",
            "'Paul Watson Training Plan.gsheet'\n",
            "'Rémi and Scarlett’s party.gsheet'\n",
            "\"Rémi's Birthday 2017.gsheet\"\n",
            " Rungineer\n",
            "'running log.gsheet'\n",
            " Untitled0.ipynb\n",
            " Untitled1.ipynb\n",
            "'Untitled spreadsheet.gsheet'\n"
          ]
        }
      ]
    },
    {
      "cell_type": "code",
      "metadata": {
        "colab": {
          "base_uri": "https://localhost:8080/"
        },
        "id": "JLq80hf2Mj2D",
        "outputId": "363c0596-5e5d-42f4-ecbc-f6becf1872bb"
      },
      "source": [
        "#How to see what is in my google drive\n",
        "!ls gdrive/MyDrive"
      ],
      "execution_count": 121,
      "outputs": [
        {
          "output_type": "stream",
          "name": "stdout",
          "text": [
            "'100k Training Plan for Isle of Wight.gsheet'\n",
            " BoardingPass.pdf\n",
            " carv_example_data\n",
            "\"Clara's Birthday 2017.gsheet\"\n",
            "'Colab Notebooks'\n",
            "'Copy of 90627.JPG'\n",
            "'Copy of GA Intro Blogging Class 04.18.pdf'\n",
            " First_Colab_Python_File.ipynb\n",
            "'IMG_4381 (1).MOV'\n",
            "'IMG_4381 (2).MOV'\n",
            "'IMG_4381 (3).MOV'\n",
            " IMG_4381.MOV\n",
            " IMG_4449.JPG\n",
            " IMG_4463.JPG\n",
            " IMG_4475.JPG\n",
            " IMG_4478.JPG\n",
            " IMG_4488.JPG\n",
            " IMG_4499.JPG\n",
            " IMG_4501.JPG\n",
            " IMG_4511.JPG\n",
            " IMG_5321.MOV\n",
            " IMG_6682.JPG\n",
            " iris.data\n",
            " iris.names\n",
            "'Jurassic Coast Strategy.xlsx'\n",
            " kc_house_data.csv\n",
            " Kids\n",
            " mobilebasic\n",
            "'mobilebasic (1)'\n",
            "'mobilebasic (2)'\n",
            "'Paul Watson Training Plan.gsheet'\n",
            "'Rémi and Scarlett’s party.gsheet'\n",
            "\"Rémi's Birthday 2017.gsheet\"\n",
            " Rungineer\n",
            "'running log.gsheet'\n",
            " Untitled0.ipynb\n",
            " Untitled1.ipynb\n",
            "'Untitled spreadsheet.gsheet'\n"
          ]
        }
      ]
    },
    {
      "cell_type": "code",
      "metadata": {
        "id": "AZmVjwIBUjAs"
      },
      "source": [
        "#one way to access to iris dataset (but it's not uploaded in google drive!)\n",
        "from sklearn import datasets\n",
        "iris = datasets.load_iris()"
      ],
      "execution_count": 122,
      "outputs": []
    },
    {
      "cell_type": "code",
      "metadata": {
        "id": "PGkrpuk1U5j_"
      },
      "source": [
        "#upload iris dataset to google drive but upsing the upload button means it's \n",
        "#only available for this session and is only saved locally.\n"
      ],
      "execution_count": 123,
      "outputs": []
    },
    {
      "cell_type": "markdown",
      "metadata": {
        "id": "6QEJiiBuZMsv"
      },
      "source": [
        "We can save the iris dataset directly from the URL by using wget:"
      ]
    },
    {
      "cell_type": "code",
      "metadata": {
        "colab": {
          "base_uri": "https://localhost:8080/"
        },
        "id": "o5VjWgfsZ2hT",
        "outputId": "6f3f35e9-72fd-4977-b805-c59fe6569416"
      },
      "source": [
        "cp /content/iris.data /content/gdrive/MyDrive/iris.data\n"
      ],
      "execution_count": 124,
      "outputs": [
        {
          "output_type": "stream",
          "name": "stdout",
          "text": [
            "cp: cannot stat '/content/iris.data': No such file or directory\n"
          ]
        }
      ]
    },
    {
      "cell_type": "code",
      "metadata": {
        "colab": {
          "base_uri": "https://localhost:8080/"
        },
        "id": "ChLynCoHXS6p",
        "outputId": "11c68031-48e1-480c-f6b9-41f5176fd56d"
      },
      "source": [
        "#how to download on the machine, we use WGet (https://www.gnu.org/software/wget/\n",
        "#). It is then named iris.data.1 as there is already another iris.data saved \n",
        "#locally\n",
        "!wget https://archive.ics.uci.edu/ml/machine-learning-databases/iris/iris.data\n"
      ],
      "execution_count": 125,
      "outputs": [
        {
          "output_type": "stream",
          "name": "stdout",
          "text": [
            "--2021-11-24 11:33:27--  https://archive.ics.uci.edu/ml/machine-learning-databases/iris/iris.data\n",
            "Resolving archive.ics.uci.edu (archive.ics.uci.edu)... 128.195.10.252\n",
            "Connecting to archive.ics.uci.edu (archive.ics.uci.edu)|128.195.10.252|:443... connected.\n",
            "HTTP request sent, awaiting response... 200 OK\n",
            "Length: 4551 (4.4K) [application/x-httpd-php]\n",
            "Saving to: ‘iris.data’\n",
            "\n",
            "iris.data           100%[===================>]   4.44K  --.-KB/s    in 0s      \n",
            "\n",
            "2021-11-24 11:33:28 (112 MB/s) - ‘iris.data’ saved [4551/4551]\n",
            "\n"
          ]
        }
      ]
    },
    {
      "cell_type": "code",
      "metadata": {
        "id": "86B7kVePUYOr"
      },
      "source": [
        "#To recover a deleted cell\n",
        "# CTRL+M Z\n"
      ],
      "execution_count": 126,
      "outputs": []
    },
    {
      "cell_type": "markdown",
      "metadata": {
        "id": "43gUhpiMZjxL"
      },
      "source": [
        "Until now everything has been saved locally, but we can save to google drive, either by copying it or moving it\n"
      ]
    },
    {
      "cell_type": "code",
      "metadata": {
        "id": "AaJcm6lcbADY"
      },
      "source": [
        "mv /content/iris.data /content/gdrive/MyDrive/iris.data"
      ],
      "execution_count": 127,
      "outputs": []
    },
    {
      "cell_type": "code",
      "metadata": {
        "colab": {
          "base_uri": "https://localhost:8080/"
        },
        "id": "KlN74bAlbC4M",
        "outputId": "b18df280-f634-4ecf-bdb3-2dbd7b0342a9"
      },
      "source": [
        "mv /content/iris.names /content/gdrive/MyDrive/iris.names"
      ],
      "execution_count": 128,
      "outputs": [
        {
          "output_type": "stream",
          "name": "stdout",
          "text": [
            "mv: cannot stat '/content/iris.names': No such file or directory\n"
          ]
        }
      ]
    },
    {
      "cell_type": "code",
      "metadata": {
        "colab": {
          "base_uri": "https://localhost:8080/"
        },
        "id": "zGk33E5Sh0FT",
        "outputId": "1c18e82a-1790-4043-92e3-0a80a306872b"
      },
      "source": [
        "#clone Stephan's GitHub repo\n",
        "!git clone https://github.com/SteBaum/First_Colab_saving"
      ],
      "execution_count": 129,
      "outputs": [
        {
          "output_type": "stream",
          "name": "stdout",
          "text": [
            "fatal: destination path 'First_Colab_saving' already exists and is not an empty directory.\n"
          ]
        }
      ]
    },
    {
      "cell_type": "code",
      "metadata": {
        "id": "z9XsaNCUsGys"
      },
      "source": [
        ""
      ],
      "execution_count": 129,
      "outputs": []
    },
    {
      "cell_type": "code",
      "metadata": {
        "id": "42cPty1NtBHI"
      },
      "source": [
        ""
      ],
      "execution_count": 129,
      "outputs": []
    },
    {
      "cell_type": "markdown",
      "metadata": {
        "id": "A9JNv6G6sqY8"
      },
      "source": [
        "### Variables and Functions\n"
      ]
    },
    {
      "cell_type": "code",
      "metadata": {
        "colab": {
          "base_uri": "https://localhost:8080/"
        },
        "id": "0Os0c9ZNiDkn",
        "outputId": "6e16b526-d1cf-49e3-b085-b16c061028f0"
      },
      "source": [
        "print(1+2)"
      ],
      "execution_count": 49,
      "outputs": [
        {
          "output_type": "stream",
          "name": "stdout",
          "text": [
            "3\n"
          ]
        }
      ]
    },
    {
      "cell_type": "markdown",
      "metadata": {
        "id": "XubCZQxmj42F"
      },
      "source": [
        "List of natural number $\\mathbb{Z}$"
      ]
    },
    {
      "cell_type": "code",
      "metadata": {
        "id": "awgCb0koj52R"
      },
      "source": [
        ""
      ],
      "execution_count": null,
      "outputs": []
    },
    {
      "cell_type": "markdown",
      "metadata": {
        "id": "cOz2w76ujkfx"
      },
      "source": [
        "Concatenate "
      ]
    },
    {
      "cell_type": "markdown",
      "metadata": {
        "id": "zae3Yax6sN5C"
      },
      "source": [
        ""
      ]
    },
    {
      "cell_type": "code",
      "metadata": {
        "colab": {
          "base_uri": "https://localhost:8080/",
          "height": 35
        },
        "id": "CIQN2hEXkQJS",
        "outputId": "3f0e3046-deb6-4a55-c343-b2b1511bd6c1"
      },
      "source": [
        "'hello' + ' world'"
      ],
      "execution_count": 60,
      "outputs": [
        {
          "output_type": "execute_result",
          "data": {
            "application/vnd.google.colaboratory.intrinsic+json": {
              "type": "string"
            },
            "text/plain": [
              "'hello world'"
            ]
          },
          "metadata": {},
          "execution_count": 60
        }
      ]
    },
    {
      "cell_type": "code",
      "metadata": {
        "colab": {
          "base_uri": "https://localhost:8080/",
          "height": 35
        },
        "id": "pX1XkhBzk--h",
        "outputId": "60c1d5ad-f50f-4258-dfa5-a5b0a7898163"
      },
      "source": [
        "#How to use variables in a string.\n",
        "name='Nathalie'\n",
        "age=20\n",
        "'Hello, {}. You are {}.'.format(name,age)"
      ],
      "execution_count": 69,
      "outputs": [
        {
          "output_type": "execute_result",
          "data": {
            "application/vnd.google.colaboratory.intrinsic+json": {
              "type": "string"
            },
            "text/plain": [
              "'Hello, Nathalie. You are 20.'"
            ]
          },
          "metadata": {},
          "execution_count": 69
        }
      ]
    },
    {
      "cell_type": "code",
      "metadata": {
        "colab": {
          "base_uri": "https://localhost:8080/",
          "height": 35
        },
        "id": "rpNXS_qWm4Lc",
        "outputId": "80215ddd-827a-4c81-d909-4aab13f58116"
      },
      "source": [
        "#Another way to do this\n",
        "f'Hello, {name}. You are {age}.'"
      ],
      "execution_count": 83,
      "outputs": [
        {
          "output_type": "execute_result",
          "data": {
            "application/vnd.google.colaboratory.intrinsic+json": {
              "type": "string"
            },
            "text/plain": [
              "'Hello, Nathalie. You are 20.'"
            ]
          },
          "metadata": {},
          "execution_count": 83
        }
      ]
    },
    {
      "cell_type": "code",
      "metadata": {
        "colab": {
          "base_uri": "https://localhost:8080/",
          "height": 35
        },
        "id": "-ymJs06nl9-_",
        "outputId": "d3c3f795-4a65-407a-e540-cfe12047dc26"
      },
      "source": [
        "#Yet nother way to do this\n",
        "'Hello, %s. You are %s.'% (name, age)"
      ],
      "execution_count": 81,
      "outputs": [
        {
          "output_type": "execute_result",
          "data": {
            "application/vnd.google.colaboratory.intrinsic+json": {
              "type": "string"
            },
            "text/plain": [
              "'Hello, Nathalie. You are 20.'"
            ]
          },
          "metadata": {},
          "execution_count": 81
        }
      ]
    },
    {
      "cell_type": "code",
      "metadata": {
        "id": "Tty2BsWI8toP"
      },
      "source": [
        ""
      ],
      "execution_count": 129,
      "outputs": []
    },
    {
      "cell_type": "code",
      "metadata": {
        "colab": {
          "base_uri": "https://localhost:8080/"
        },
        "id": "ky2BAIrTiGXr",
        "outputId": "76a06e00-83a2-431e-b970-18be89004ae1"
      },
      "source": [
        "#Integet number is a number in Z\n",
        "#A float is a decimal number\n",
        "#type function enables checking type of an input (integer, float, string etc)\n",
        "type(1+1.3)"
      ],
      "execution_count": 54,
      "outputs": [
        {
          "output_type": "execute_result",
          "data": {
            "text/plain": [
              "float"
            ]
          },
          "metadata": {},
          "execution_count": 54
        }
      ]
    },
    {
      "cell_type": "code",
      "metadata": {
        "id": "wlliKEu4nGuQ"
      },
      "source": [
        "def concat_number(a,b):\n",
        "  return('{}{}'.format(a,b))"
      ],
      "execution_count": 103,
      "outputs": []
    },
    {
      "cell_type": "code",
      "metadata": {
        "colab": {
          "base_uri": "https://localhost:8080/",
          "height": 35
        },
        "id": "0Xp2Ml0QnjZB",
        "outputId": "80296b12-6b68-4dbc-e1d6-191da9c5cf01"
      },
      "source": [
        "concat_number(name,age)"
      ],
      "execution_count": 104,
      "outputs": [
        {
          "output_type": "execute_result",
          "data": {
            "application/vnd.google.colaboratory.intrinsic+json": {
              "type": "string"
            },
            "text/plain": [
              "'Nathalie20'"
            ]
          },
          "metadata": {},
          "execution_count": 104
        }
      ]
    },
    {
      "cell_type": "code",
      "metadata": {
        "colab": {
          "base_uri": "https://localhost:8080/"
        },
        "id": "7yzr1G8fq-5D",
        "outputId": "26ad7bcf-f931-4635-bc2a-b3a6de239064"
      },
      "source": [
        "concat_number_print(name,age)"
      ],
      "execution_count": 106,
      "outputs": [
        {
          "output_type": "stream",
          "name": "stdout",
          "text": [
            "Nathalie20\n"
          ]
        }
      ]
    },
    {
      "cell_type": "code",
      "metadata": {
        "id": "945fYQ2Jn-QY"
      },
      "source": [
        "#Another way to do the above:\n",
        "def concat_number_2(a,b):\n",
        "  b=str(b)\n",
        "  return(a+b)"
      ],
      "execution_count": 101,
      "outputs": []
    },
    {
      "cell_type": "code",
      "metadata": {
        "colab": {
          "base_uri": "https://localhost:8080/",
          "height": 35
        },
        "id": "hsmwqeGRo0tG",
        "outputId": "14cd894f-ca3a-4d6a-9f9d-359ab2506d96"
      },
      "source": [
        "concat_number_2(name,age)"
      ],
      "execution_count": 100,
      "outputs": [
        {
          "output_type": "execute_result",
          "data": {
            "application/vnd.google.colaboratory.intrinsic+json": {
              "type": "string"
            },
            "text/plain": [
              "'Nathalie20'"
            ]
          },
          "metadata": {},
          "execution_count": 100
        }
      ]
    },
    {
      "cell_type": "code",
      "metadata": {
        "id": "-szkeMpRqyKJ"
      },
      "source": [
        "#careful that the one below will not return anything, but just print it to the \n",
        "#screen!\n",
        "def concat_number_print(a,b):\n",
        "  print('{}{}'.format(a,b))"
      ],
      "execution_count": 105,
      "outputs": []
    },
    {
      "cell_type": "code",
      "metadata": {
        "colab": {
          "base_uri": "https://localhost:8080/",
          "height": 35
        },
        "id": "d2gxs6CgnBXX",
        "outputId": "91d7b226-21f4-4350-82cc-705b7cebbd43"
      },
      "source": [
        "#Multiply strings and number\n",
        "10 * 'hello'"
      ],
      "execution_count": 84,
      "outputs": [
        {
          "output_type": "execute_result",
          "data": {
            "application/vnd.google.colaboratory.intrinsic+json": {
              "type": "string"
            },
            "text/plain": [
              "'hellohellohellohellohellohellohellohellohellohello'"
            ]
          },
          "metadata": {},
          "execution_count": 84
        }
      ]
    },
    {
      "cell_type": "markdown",
      "metadata": {
        "id": "pw5DFwtPrSdz"
      },
      "source": [
        "Note: Avoid reusing names of variables in functions for some other variables as it will just cause confusion."
      ]
    },
    {
      "cell_type": "code",
      "metadata": {
        "id": "tGoz-q9Z89wc"
      },
      "source": [
        "#write a function that is able to list a folder\n",
        "import os\n",
        "\n",
        "def list_a_folder(mypath):\n",
        "  '''\n",
        "  This function returns the content of a folder and the number of files\n",
        "  '''\n",
        "  mydir = os.listdir(mypath)\n",
        "  mylen=len(mydir)\n",
        "  return mydir,mylen\n",
        "\n"
      ],
      "execution_count": 135,
      "outputs": []
    },
    {
      "cell_type": "code",
      "metadata": {
        "colab": {
          "base_uri": "https://localhost:8080/"
        },
        "id": "jS03nV7i923F",
        "outputId": "559b479c-5889-4278-a613-32299ddbd332"
      },
      "source": [
        "list_a_folder('/content/gdrive/MyDrive')\n",
        "# The above will not return the folders on local drive as Colab doesn't see them."
      ],
      "execution_count": 142,
      "outputs": [
        {
          "output_type": "execute_result",
          "data": {
            "text/plain": [
              "([\"Rémi's Birthday 2017.gsheet\",\n",
              "  \"Clara's Birthday 2017.gsheet\",\n",
              "  'Rungineer',\n",
              "  'Copy of GA Intro Blogging Class 04.18.pdf',\n",
              "  'BoardingPass.pdf',\n",
              "  'Rémi and Scarlett’s party.gsheet',\n",
              "  'IMG_4463.JPG',\n",
              "  'IMG_4499.JPG',\n",
              "  'IMG_4449.JPG',\n",
              "  'IMG_4475.JPG',\n",
              "  'IMG_4488.JPG',\n",
              "  'IMG_4501.JPG',\n",
              "  'IMG_4478.JPG',\n",
              "  'IMG_4511.JPG',\n",
              "  'IMG_6682.JPG',\n",
              "  'Paul Watson Training Plan.gsheet',\n",
              "  'kc_house_data.csv',\n",
              "  'carv_example_data',\n",
              "  '100k Training Plan for Isle of Wight.gsheet',\n",
              "  'IMG_4381 (3).MOV',\n",
              "  'IMG_4381 (2).MOV',\n",
              "  'IMG_4381 (1).MOV',\n",
              "  'IMG_4381.MOV',\n",
              "  'running log.gsheet',\n",
              "  'Untitled spreadsheet.gsheet',\n",
              "  'IMG_5321.MOV',\n",
              "  'mobilebasic (2)',\n",
              "  'mobilebasic (1)',\n",
              "  'mobilebasic',\n",
              "  'Kids',\n",
              "  'Jurassic Coast Strategy.xlsx',\n",
              "  'Copy of 90627.JPG',\n",
              "  'Untitled1.ipynb',\n",
              "  'Untitled0.ipynb',\n",
              "  'Colab Notebooks',\n",
              "  'First_Colab_Python_File.ipynb',\n",
              "  'iris.data',\n",
              "  'iris.names'],\n",
              " 38)"
            ]
          },
          "metadata": {},
          "execution_count": 142
        }
      ]
    },
    {
      "cell_type": "code",
      "metadata": {
        "id": "5pGt6ND5B_6Y"
      },
      "source": [
        "#rewrite a function that is able to list a folder and truly reflects the \n",
        "#number of files in it (as opposed to the last function list_a_folder)\n",
        "import os\n",
        "\n",
        "def list_a_folder_2(mypath):\n",
        "  '''\n",
        "  This function returns the content of a folder and the number of files but\n",
        "  is an update on function list_a_folder which didn't return the correct number\n",
        "  of files in the folder\n",
        "  '''\n",
        "  myelements=[]\n",
        "  for fname in os.listdir(mypath):\n",
        "      if os.path.isfile(mypath+'/{}'.format(fname)):\n",
        "          myelements.append(fname)\n",
        "      else:\n",
        "          continue\n",
        "       \n",
        "  mylen=len(myelements)\n",
        "  return myelements,mylen"
      ],
      "execution_count": 272,
      "outputs": []
    },
    {
      "cell_type": "code",
      "metadata": {
        "colab": {
          "base_uri": "https://localhost:8080/"
        },
        "id": "2573xJXuM8Yx",
        "outputId": "3092713b-d39e-471f-d838-affbcc11895f"
      },
      "source": [
        "list_a_folder_2('/content/gdrive/MyDrive')"
      ],
      "execution_count": 273,
      "outputs": [
        {
          "output_type": "execute_result",
          "data": {
            "text/plain": [
              "([\"Rémi's Birthday 2017.gsheet\",\n",
              "  \"Clara's Birthday 2017.gsheet\",\n",
              "  'Copy of GA Intro Blogging Class 04.18.pdf',\n",
              "  'BoardingPass.pdf',\n",
              "  'Rémi and Scarlett’s party.gsheet',\n",
              "  'IMG_4463.JPG',\n",
              "  'IMG_4499.JPG',\n",
              "  'IMG_4449.JPG',\n",
              "  'IMG_4475.JPG',\n",
              "  'IMG_4488.JPG',\n",
              "  'IMG_4501.JPG',\n",
              "  'IMG_4478.JPG',\n",
              "  'IMG_4511.JPG',\n",
              "  'IMG_6682.JPG',\n",
              "  'Paul Watson Training Plan.gsheet',\n",
              "  'kc_house_data.csv',\n",
              "  '100k Training Plan for Isle of Wight.gsheet',\n",
              "  'IMG_4381 (3).MOV',\n",
              "  'IMG_4381 (2).MOV',\n",
              "  'IMG_4381 (1).MOV',\n",
              "  'IMG_4381.MOV',\n",
              "  'running log.gsheet',\n",
              "  'Untitled spreadsheet.gsheet',\n",
              "  'IMG_5321.MOV',\n",
              "  'mobilebasic (2)',\n",
              "  'mobilebasic (1)',\n",
              "  'mobilebasic',\n",
              "  'Jurassic Coast Strategy.xlsx',\n",
              "  'Copy of 90627.JPG',\n",
              "  'Untitled1.ipynb',\n",
              "  'Untitled0.ipynb',\n",
              "  'First_Colab_Python_File.ipynb',\n",
              "  'iris.data',\n",
              "  'iris.names'],\n",
              " 34)"
            ]
          },
          "metadata": {},
          "execution_count": 273
        }
      ]
    },
    {
      "cell_type": "code",
      "metadata": {
        "id": "mGSRMCXSKTyf"
      },
      "source": [
        "#another way to achieve same thing\n",
        "def list_of_folder_3(mypath,fileformat):\n",
        "  '''\n",
        "    This function returns the number of files in this folder and list the files\n",
        "    whislt ensuring it doesn't return folders\n",
        "    '''\n",
        "  list_of_my_path=os.listdir(mypath)\n",
        "  number_of_elements=len(mypath)\n",
        "\n",
        "  good_elements=[]\n",
        "  for element in list_of_my_path:\n",
        "      my_file=os.path.join(mypath,element)\n",
        "      # in the below line we ensure that the upper or lower case extension give same results\n",
        "      if os.path.isfile(my_file) and os.path.splitext(my_file.lower())[1]==fileformat.lower():\n",
        "          good_elements.append(element)\n",
        "\n",
        "  number_of_elements=len(good_elements)\n",
        "        \n",
        "  return (good_elements,number_of_elements)"
      ],
      "execution_count": 304,
      "outputs": []
    },
    {
      "cell_type": "code",
      "metadata": {
        "id": "ZMIAwKuVOGQ9"
      },
      "source": [
        "list_of_folder_3('/content/gdrive/MyDrive','.jpg')"
      ],
      "execution_count": null,
      "outputs": []
    },
    {
      "cell_type": "code",
      "metadata": {
        "id": "1C7GoF-EQ8m1"
      },
      "source": [
        "my_file='/content/gdrive/MyDrive/IMG_4488.JPG'"
      ],
      "execution_count": 298,
      "outputs": []
    },
    {
      "cell_type": "code",
      "metadata": {
        "id": "JRbbIEuITKba"
      },
      "source": [
        "#Other way to define function for with same goal\n",
        "#functions that helps us to filter files from folders and counts only JPG files\n",
        "\n",
        "def list_a_folder_jpg(input_path):\n",
        "\n",
        "  \n",
        "\n",
        "  #declare a variable that is listing my file located inside the input path\n",
        "\n",
        "  list_of_my_path = os.listdir(input_path)\n",
        "\n",
        "\n",
        "\n",
        "  \"\"\"make difference between the relative path and the absolute drive\"\"\"\n",
        "\n",
        "  #declare a variable that is an empty list\n",
        "\n",
        "  good_elements = []\n",
        "\n",
        "  #start a for loop for all elements in my list of files (relative path format)\n",
        "\n",
        "  for element in list_of_my_path:\n",
        "\n",
        "    #create a variable storing one full path of my file\n",
        "\n",
        "    full_path_file = os.path.join(input_path, element)\n",
        "\n",
        "    # we check if the full path of the elemnt is a file\n",
        "\n",
        "    if os.path.isfile(full_path_file):\n",
        "\n",
        "      if full_path_file.lower().endswith('.jpg'):\n",
        "\n",
        "      #if it is the case we add the element to the list of good_elemnts\n",
        "\n",
        "        good_elements.append(full_path_file)\n",
        "\n",
        "  #declare a variable counting the good number of elemnts\n",
        "\n",
        "  number_of_elements = len(good_elements)\n",
        "\n",
        "  #return the tuple\n",
        "\n",
        "  return (good_elements, number_of_elements)"
      ],
      "execution_count": 307,
      "outputs": []
    },
    {
      "cell_type": "code",
      "metadata": {
        "id": "FTj7OBZvV2G5"
      },
      "source": [
        "#Other way to define function for with same goal\n",
        "#functions that helps us to filter files from folders and counts only JPG files\n",
        "\n",
        "def list_a_folder_jpg_2(input_path,list_extension): \n",
        "  #takes tuple for list_extension, can be one or more values\n",
        "\n",
        "  '''\n",
        "  This function takes a list of extensions we want to filter on in the output\n",
        "\n",
        "  '''\n",
        "\n",
        "  #declare a variable that is listing my file located inside the input path\n",
        "\n",
        "  list_of_my_path = os.listdir(input_path)\n",
        "\n",
        "  \"\"\"make difference between the relative path and the absolute drive\"\"\"\n",
        "\n",
        "  #declare a variable that is an empty list\n",
        "  good_elements = []\n",
        "  #start a for loop for all elements in my list of files (relative path format)\n",
        "\n",
        "  for element in list_of_my_path:\n",
        "      #create a variable storing one full path of my file\n",
        "    full_path_file = os.path.join(input_path, element)\n",
        "\n",
        "    # we check if the full path of the elemnt is a file\n",
        "    if os.path.isfile(full_path_file):\n",
        "        if full_path_file.lower().endswith(list_extension):\n",
        "\n",
        "        #if it is the case we add the element to the list of good_elemnts\n",
        "           good_elements.append(full_path_file)\n",
        "\n",
        "  #declare a variable counting the good number of elemnts\n",
        "  number_of_elements = len(good_elements)\n",
        "\n",
        "  #return the tuple\n",
        "  return (good_elements, number_of_elements)"
      ],
      "execution_count": 310,
      "outputs": []
    },
    {
      "cell_type": "code",
      "metadata": {
        "id": "6mvMNYxHV121"
      },
      "source": [
        "mypath='/content/gdrive/MyDrive'"
      ],
      "execution_count": 312,
      "outputs": []
    },
    {
      "cell_type": "code",
      "metadata": {
        "id": "9dLHHn-LX5lt"
      },
      "source": [
        "list_extension=('jpg','mov')"
      ],
      "execution_count": 313,
      "outputs": []
    },
    {
      "cell_type": "code",
      "metadata": {
        "id": "z3N22ywZXAjF"
      },
      "source": [
        "list_a_folder_jpg_2(mypath,list_extension)"
      ],
      "execution_count": null,
      "outputs": []
    },
    {
      "cell_type": "code",
      "metadata": {
        "id": "VuU0LR1YY9A8"
      },
      "source": [
        "import glob2"
      ],
      "execution_count": 315,
      "outputs": []
    },
    {
      "cell_type": "code",
      "metadata": {
        "id": "Z5eELa1-bZqF"
      },
      "source": [
        "myjpgextension = \"*.jpg\""
      ],
      "execution_count": 325,
      "outputs": []
    },
    {
      "cell_type": "code",
      "metadata": {
        "colab": {
          "base_uri": "https://localhost:8080/"
        },
        "id": "AtIgZrrsaj0f",
        "outputId": "98b18321-463d-4389-9291-b15f61ad6699"
      },
      "source": [
        "#This is how you can use glob2 to list all .jpg files\n",
        "glob2.glob(os.path.join(mypath,myjpgextension))"
      ],
      "execution_count": 326,
      "outputs": [
        {
          "output_type": "execute_result",
          "data": {
            "text/plain": [
              "['/content/gdrive/MyDrive/IMG_4463.JPG',\n",
              " '/content/gdrive/MyDrive/IMG_4499.JPG',\n",
              " '/content/gdrive/MyDrive/IMG_4449.JPG',\n",
              " '/content/gdrive/MyDrive/IMG_4475.JPG',\n",
              " '/content/gdrive/MyDrive/IMG_4488.JPG',\n",
              " '/content/gdrive/MyDrive/IMG_4501.JPG',\n",
              " '/content/gdrive/MyDrive/IMG_4478.JPG',\n",
              " '/content/gdrive/MyDrive/IMG_4511.JPG',\n",
              " '/content/gdrive/MyDrive/IMG_6682.JPG',\n",
              " '/content/gdrive/MyDrive/Copy of 90627.JPG']"
            ]
          },
          "metadata": {},
          "execution_count": 326
        }
      ]
    },
    {
      "cell_type": "code",
      "metadata": {
        "colab": {
          "base_uri": "https://localhost:8080/"
        },
        "id": "-gZK_26UbwlY",
        "outputId": "06117b3e-567c-4159-e7a3-10562e7c68a6"
      },
      "source": [
        "list_a_folder_jpg_2(mypath,myjpgextension)"
      ],
      "execution_count": 327,
      "outputs": [
        {
          "output_type": "execute_result",
          "data": {
            "text/plain": [
              "(['/content/gdrive/MyDrive/IMG_4463.JPG',\n",
              "  '/content/gdrive/MyDrive/IMG_4499.JPG',\n",
              "  '/content/gdrive/MyDrive/IMG_4449.JPG',\n",
              "  '/content/gdrive/MyDrive/IMG_4475.JPG',\n",
              "  '/content/gdrive/MyDrive/IMG_4488.JPG',\n",
              "  '/content/gdrive/MyDrive/IMG_4501.JPG',\n",
              "  '/content/gdrive/MyDrive/IMG_4478.JPG',\n",
              "  '/content/gdrive/MyDrive/IMG_4511.JPG',\n",
              "  '/content/gdrive/MyDrive/IMG_6682.JPG',\n",
              "  '/content/gdrive/MyDrive/Copy of 90627.JPG'],\n",
              " 10)"
            ]
          },
          "metadata": {},
          "execution_count": 327
        }
      ]
    },
    {
      "cell_type": "code",
      "metadata": {
        "id": "gJp6gE3Xb7XQ"
      },
      "source": [
        "pdfextension=\"*.pdf\""
      ],
      "execution_count": 331,
      "outputs": []
    },
    {
      "cell_type": "code",
      "metadata": {
        "colab": {
          "base_uri": "https://localhost:8080/"
        },
        "id": "S38aNjWTcDpq",
        "outputId": "73ae7615-e8dd-45fa-f359-4feacb4c3e2a"
      },
      "source": [
        "glob2.glob(os.path.join(mypath,pdfextension))"
      ],
      "execution_count": 330,
      "outputs": [
        {
          "output_type": "execute_result",
          "data": {
            "text/plain": [
              "['/content/gdrive/MyDrive/Copy of GA Intro Blogging Class 04.18.pdf',\n",
              " '/content/gdrive/MyDrive/BoardingPass.pdf']"
            ]
          },
          "metadata": {},
          "execution_count": 330
        }
      ]
    },
    {
      "cell_type": "code",
      "metadata": {
        "id": "B9rITF3bcUM0"
      },
      "source": [
        "pdforjpgextensions=[\"*.pdf\",\"*.jpg\"]"
      ],
      "execution_count": 335,
      "outputs": []
    },
    {
      "cell_type": "code",
      "metadata": {
        "id": "Qc_IZ-sPdPrB"
      },
      "source": [
        "#this helps returning all files with extensions in pdforjpgextensions\n",
        "my_files=[]\n",
        "for extension in pdforjpgextensions:\n",
        "    extension_file=glob2.glob(os.path.join(mypath,extension))\n",
        "    # the below += avoids creating one list per extension\n",
        "    my_files += extension_file"
      ],
      "execution_count": 340,
      "outputs": []
    },
    {
      "cell_type": "code",
      "metadata": {
        "id": "xqVAJtavctg1"
      },
      "source": [
        "my_files"
      ],
      "execution_count": null,
      "outputs": []
    }
  ]
}